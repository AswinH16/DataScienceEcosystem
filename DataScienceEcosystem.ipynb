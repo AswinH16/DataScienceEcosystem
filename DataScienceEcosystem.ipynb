{
 "cells": [
  {
   "cell_type": "markdown",
   "id": "e3979385-d60d-4e2c-8614-62220fc5f16c",
   "metadata": {},
   "source": [
    "# Data Science Tools and Ecosystem"
   ]
  },
  {
   "cell_type": "markdown",
   "id": "75a761cd-1ed8-4797-8e0d-aa8a09f5124b",
   "metadata": {
    "tags": []
   },
   "source": [
    "## In this notebook, Data Science Tools and Ecosystem are summarized."
   ]
  },
  {
   "cell_type": "markdown",
   "id": "9c5c38d7-bb44-481c-baca-03ec5d49a115",
   "metadata": {},
   "source": [
    "**Objectives:**\n",
    "\n",
    "- List popular languages that Data Scientists use.\n",
    "- List commonly used libraries used by Data Scientists.\n",
    "- Comment on Data Science tools."
   ]
  },
  {
   "cell_type": "markdown",
   "id": "e3acff20-ae5f-41ad-9a93-2e2f045d8fda",
   "metadata": {},
   "source": [
    "### Some of the popular languages that Data Scientists use are:\n",
    "\n",
    "1. Python\n",
    "2. R\n",
    "3. SQL\n",
    "4. Java\n",
    "5. Scala\n",
    "6. Julia"
   ]
  },
  {
   "cell_type": "markdown",
   "id": "1d332957-573f-4170-b53a-9c1921ea8baf",
   "metadata": {},
   "source": [
    "### Some of the commonly used libraries used by Data Scientists include:\n",
    "\n",
    "1. Scrapy (for data scraping)\n",
    "2. Pandas (for data cleaning and processing)\n",
    "3. NumPy (for numerical computing)\n",
    "4. Scikit-Learn (for model building)\n",
    "5. Matplotlib and Seaborn (for data visualization)"
   ]
  },
  {
   "cell_type": "markdown",
   "id": "bb87c2e0-2485-467a-8927-684e52ab0f4c",
   "metadata": {},
   "source": [
    "| Data Science Tools |\n",
    "----------------------\n",
    "| Apache Hadoop |\n",
    "| Git |\n",
    "| BigML |"
   ]
  },
  {
   "cell_type": "markdown",
   "id": "6672a52f-951c-4ff8-931c-a1bbb6cfa7da",
   "metadata": {
    "tags": []
   },
   "source": [
    "### Below are a few examples of evaluating arithmetic expressions in Python"
   ]
  },
  {
   "cell_type": "code",
   "execution_count": 4,
   "id": "21b34de0-0ae6-4816-8f5e-343ace6b3d4a",
   "metadata": {
    "tags": []
   },
   "outputs": [
    {
     "data": {
      "text/plain": [
       "17"
      ]
     },
     "execution_count": 4,
     "metadata": {},
     "output_type": "execute_result"
    }
   ],
   "source": [
    "# This a simple arithmetic expression to mutiply then add integers\n",
    "\n",
    "(3*4)+5"
   ]
  },
  {
   "cell_type": "code",
   "execution_count": 7,
   "id": "076d8c89-989b-471a-a821-280c1bc0fdc0",
   "metadata": {
    "tags": []
   },
   "outputs": [
    {
     "name": "stdout",
     "output_type": "stream",
     "text": [
      "200 minutes is 3.3333333333333335 hours.\n"
     ]
    }
   ],
   "source": [
    "# This will convert 200 minutes to hours by diving by 60\n",
    "m = 200\n",
    "h = m/60\n",
    "print(f\"{m} minutes is {h} hours.\")"
   ]
  },
  {
   "cell_type": "markdown",
   "id": "d9480c94-8885-4e15-a6ed-dd63a80afce5",
   "metadata": {},
   "source": [
    "## Author \n",
    "   ASWIN HARISH"
   ]
  },
  {
   "cell_type": "code",
   "execution_count": null,
   "id": "1c8a977d-caad-4b58-b46b-95e3bc8edfe2",
   "metadata": {},
   "outputs": [],
   "source": []
  }
 ],
 "metadata": {
  "kernelspec": {
   "display_name": "Python",
   "language": "python",
   "name": "conda-env-python-py"
  },
  "language_info": {
   "codemirror_mode": {
    "name": "ipython",
    "version": 3
   },
   "file_extension": ".py",
   "mimetype": "text/x-python",
   "name": "python",
   "nbconvert_exporter": "python",
   "pygments_lexer": "ipython3",
   "version": "3.7.12"
  }
 },
 "nbformat": 4,
 "nbformat_minor": 5
}
